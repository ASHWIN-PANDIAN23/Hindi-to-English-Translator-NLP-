{
 "cells": [
  {
   "cell_type": "code",
   "execution_count": 10,
   "metadata": {},
   "outputs": [
    {
     "name": "stdout",
     "output_type": "stream",
     "text": [
      "Using device: cuda\n",
      "GPU: NVIDIA GeForce RTX 3050 Laptop GPU\n",
      "Base dir: C:\\Users\\ashwi\\OneDrive\\Desktop\\HindiToEnglishMT\n"
     ]
    }
   ],
   "source": [
    "\n",
    "import os, sys\n",
    "from pathlib import Path\n",
    "import torch\n",
    "\n",
    "os.environ[\"PYTORCH_CUDA_ALLOC_CONF\"] = \"max_split_size_mb:128\"\n",
    "os.environ[\"TOKENIZERS_PARALLELISM\"] = \"false\"\n",
    "\n",
    "device = torch.device(\"cuda\" if torch.cuda.is_available() else \"cpu\")\n",
    "print(\"Using device:\", device)\n",
    "if torch.cuda.is_available():\n",
    "    print(\"GPU:\", torch.cuda.get_device_name(0))\n",
    "\n",
    "home = Path.home()\n",
    "desktop = home / \"Desktop\"\n",
    "base_dir = desktop / \"HindiToEnglishMT\"\n",
    "if not base_dir.exists():\n",
    "    base_dir = Path.cwd().resolve().parent\n",
    "print(\"Base dir:\", base_dir)\n",
    "\n",
    "sys.path.append(str(base_dir / \"utils\"))\n",
    "import sentencepiece as spm\n",
    "from model_utils import Seq2SeqTransformer\n"
   ]
  },
  {
   "cell_type": "code",
   "execution_count": 11,
   "metadata": {},
   "outputs": [
    {
     "data": {
      "text/plain": [
       "Seq2SeqTransformer(\n",
       "  (src_embed): Embedding(32000, 64, padding_idx=0)\n",
       "  (tgt_embed): Embedding(32000, 64, padding_idx=0)\n",
       "  (pos_enc): PositionalEncoding()\n",
       "  (encoder): ModuleList(\n",
       "    (0-1): 2 x EncoderLayer(\n",
       "      (self_attn): MultiheadAttention(\n",
       "        (q_proj): Linear(in_features=64, out_features=64, bias=False)\n",
       "        (k_proj): Linear(in_features=64, out_features=64, bias=False)\n",
       "        (v_proj): Linear(in_features=64, out_features=64, bias=False)\n",
       "        (o_proj): Linear(in_features=64, out_features=64, bias=False)\n",
       "        (dropout): Dropout(p=0.2, inplace=False)\n",
       "      )\n",
       "      (ff): FeedForward(\n",
       "        (net): Sequential(\n",
       "          (0): Linear(in_features=64, out_features=128, bias=True)\n",
       "          (1): ReLU(inplace=True)\n",
       "          (2): Dropout(p=0.2, inplace=False)\n",
       "          (3): Linear(in_features=128, out_features=64, bias=True)\n",
       "          (4): Dropout(p=0.2, inplace=False)\n",
       "        )\n",
       "      )\n",
       "      (norm1): LayerNorm((64,), eps=1e-05, elementwise_affine=True)\n",
       "      (norm2): LayerNorm((64,), eps=1e-05, elementwise_affine=True)\n",
       "      (dropout): Dropout(p=0.2, inplace=False)\n",
       "    )\n",
       "  )\n",
       "  (decoder): ModuleList(\n",
       "    (0-1): 2 x DecoderLayer(\n",
       "      (self_attn): MultiheadAttention(\n",
       "        (q_proj): Linear(in_features=64, out_features=64, bias=False)\n",
       "        (k_proj): Linear(in_features=64, out_features=64, bias=False)\n",
       "        (v_proj): Linear(in_features=64, out_features=64, bias=False)\n",
       "        (o_proj): Linear(in_features=64, out_features=64, bias=False)\n",
       "        (dropout): Dropout(p=0.2, inplace=False)\n",
       "      )\n",
       "      (cross_attn): MultiheadAttention(\n",
       "        (q_proj): Linear(in_features=64, out_features=64, bias=False)\n",
       "        (k_proj): Linear(in_features=64, out_features=64, bias=False)\n",
       "        (v_proj): Linear(in_features=64, out_features=64, bias=False)\n",
       "        (o_proj): Linear(in_features=64, out_features=64, bias=False)\n",
       "        (dropout): Dropout(p=0.2, inplace=False)\n",
       "      )\n",
       "      (ff): FeedForward(\n",
       "        (net): Sequential(\n",
       "          (0): Linear(in_features=64, out_features=128, bias=True)\n",
       "          (1): ReLU(inplace=True)\n",
       "          (2): Dropout(p=0.2, inplace=False)\n",
       "          (3): Linear(in_features=128, out_features=64, bias=True)\n",
       "          (4): Dropout(p=0.2, inplace=False)\n",
       "        )\n",
       "      )\n",
       "      (norm1): LayerNorm((64,), eps=1e-05, elementwise_affine=True)\n",
       "      (norm2): LayerNorm((64,), eps=1e-05, elementwise_affine=True)\n",
       "      (norm3): LayerNorm((64,), eps=1e-05, elementwise_affine=True)\n",
       "      (dropout): Dropout(p=0.2, inplace=False)\n",
       "    )\n",
       "  )\n",
       "  (lm_head): Linear(in_features=64, out_features=32000, bias=False)\n",
       ")"
      ]
     },
     "execution_count": 11,
     "metadata": {},
     "output_type": "execute_result"
    }
   ],
   "source": [
    "# Load tokenizer and model\n",
    "sp = spm.SentencePieceProcessor(model_file=str(base_dir / \"models\" / \"vocab\" / \"hi_en_unigram.model\"))\n",
    "pad_id = sp.pad_id(); bos_id = sp.bos_id(); eos_id = sp.eos_id()\n",
    "vocab_size = sp.vocab_size()\n",
    "\n",
    "ckpt_path = base_dir / \"models\" / \"from_scratch\" / \"best_model.pt\"\n",
    "if not ckpt_path.exists():\n",
    "    raise FileNotFoundError(\"Best model not found. Train it in 02_train_model.ipynb first.\")\n",
    "\n",
    "ckpt = torch.load(ckpt_path, map_location=device)\n",
    "\n",
    "# Build model with same hyperparams used during training\n",
    "model = Seq2SeqTransformer(\n",
    "    vocab_size=vocab_size,\n",
    "    pad_id=pad_id,\n",
    "    d_model=64,\n",
    "    num_heads=2,\n",
    "    num_encoder_layers=2,\n",
    "    num_decoder_layers=2,\n",
    "    d_ff=128,\n",
    "    dropout=0.2\n",
    ").to(device)\n",
    "\n",
    "# Load trained weights\n",
    "model.load_state_dict(ckpt)\n",
    "model.eval()\n"
   ]
  },
  {
   "cell_type": "code",
   "execution_count": 12,
   "metadata": {},
   "outputs": [],
   "source": [
    "\n",
    "# Helper to translate a single Hindi string\n",
    "def translate(hi_text: str, max_len: int = 128, beam_size: int = 4, length_penalty: float = 0.6) -> str:\n",
    "    src_ids = [sp.bos_id()] + sp.encode(hi_text, out_type=int) + [sp.eos_id()]\n",
    "    src = torch.tensor([src_ids], dtype=torch.long, device=device)\n",
    "    out_ids = model.beam_search(src, max_len=max_len, bos_id=sp.bos_id(), eos_id=sp.eos_id(),\n",
    "                                beam_size=beam_size, length_penalty=length_penalty)[0].tolist()\n",
    "    # strip BOS and everything after EOS\n",
    "    if len(out_ids) > 0 and out_ids[0] == sp.bos_id():\n",
    "        out_ids = out_ids[1:]\n",
    "    if sp.eos_id() in out_ids:\n",
    "        out_ids = out_ids[:out_ids.index(sp.eos_id())]\n",
    "    return sp.decode(out_ids)\n"
   ]
  },
  {
   "cell_type": "code",
   "execution_count": 13,
   "metadata": {},
   "outputs": [],
   "source": [
    "# Interactive input\n",
    "while True:\n",
    "    try:\n",
    "        s = input(\"Enter Hindi sentence (or 'quit'): \").strip()\n",
    "        if s.lower() in {\"q\", \"quit\", \"exit\"}:\n",
    "            break\n",
    "        print(\"Translation:\", translate(s))\n",
    "\n",
    "    except KeyboardInterrupt:\n",
    "        break\n"
   ]
  }
 ],
 "metadata": {
  "kernelspec": {
   "display_name": "Python 3",
   "language": "python",
   "name": "python3"
  },
  "language_info": {
   "codemirror_mode": {
    "name": "ipython",
    "version": 3
   },
   "file_extension": ".py",
   "mimetype": "text/x-python",
   "name": "python",
   "nbconvert_exporter": "python",
   "pygments_lexer": "ipython3",
   "version": "3.10.0"
  }
 },
 "nbformat": 4,
 "nbformat_minor": 5
}
