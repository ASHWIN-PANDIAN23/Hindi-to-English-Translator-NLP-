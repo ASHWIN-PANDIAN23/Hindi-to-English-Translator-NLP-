{
 "cells": [
  {
   "cell_type": "code",
   "execution_count": null,
   "id": "8222eae5",
   "metadata": {},
   "outputs": [],
   "source": [
    "import sys, os\n",
    "\n",
    "# Ensure project root is on sys.path for imports\n",
    "project_root = os.path.abspath(os.path.join(os.getcwd(), \"..\"))\n",
    "if project_root not in sys.path:\n",
    "    sys.path.append(project_root)\n",
    "\n",
    "from utils.training_utils import evaluate_bleu, train_one_epoch\n"
   ]
  },
  {
   "cell_type": "code",
   "execution_count": 1,
   "id": "1afd33b8",
   "metadata": {},
   "outputs": [
    {
     "name": "stdout",
     "output_type": "stream",
     "text": [
      "Using device: cuda\n",
      "GPU: NVIDIA GeForce RTX 3050 Laptop GPU\n",
      "Base dir: C:\\Users\\ashwi\\OneDrive\\Desktop\\HindiToEnglishMT\n"
     ]
    }
   ],
   "source": [
    "\n",
    "import os, sys, json\n",
    "from pathlib import Path\n",
    "import torch\n",
    "import random\n",
    "import numpy as np\n",
    "\n",
    "# Stable memory + determinism\n",
    "os.environ[\"PYTORCH_CUDA_ALLOC_CONF\"] = \"max_split_size_mb:128\"\n",
    "os.environ[\"TOKENIZERS_PARALLELISM\"] = \"false\"\n",
    "\n",
    "torch.backends.cudnn.benchmark = True\n",
    "torch.set_float32_matmul_precision('high')\n",
    "\n",
    "device = torch.device(\"cuda\" if torch.cuda.is_available() else \"cpu\")\n",
    "print(\"Using device:\", device)\n",
    "if torch.cuda.is_available():\n",
    "    print(\"GPU:\", torch.cuda.get_device_name(0))\n",
    "\n",
    "home = Path.home()\n",
    "desktop = home / \"Desktop\"\n",
    "base_dir = desktop / \"HindiToEnglishMT\"\n",
    "if not base_dir.exists():\n",
    "    base_dir = Path.cwd().resolve().parent\n",
    "print(\"Base dir:\", base_dir)\n",
    "\n",
    "sys.path.append(str(base_dir / \"utils\"))\n",
    "from training_utils import TrainConfig, TokenBatchDataset, build_adaptive_dataloader, train_one_epoch, WarmupInverseSqrtScheduler\n",
    "from model_utils import Seq2SeqTransformer\n",
    "import sentencepiece as spm\n"
   ]
  },
  {
   "cell_type": "code",
   "execution_count": 2,
   "id": "49a2ceb0",
   "metadata": {},
   "outputs": [
    {
     "name": "stdout",
     "output_type": "stream",
     "text": [
      "Train examples: 1603359 Val examples: 520\n",
      "Vocab size: 32000\n"
     ]
    }
   ],
   "source": [
    "\n",
    "# Load tokenized data\n",
    "processed_dir = base_dir / \"data\" / \"processed\"\n",
    "train_path = processed_dir / \"train_tokenized.jsonl\"\n",
    "val_path = processed_dir / \"val_tokenized.jsonl\"\n",
    "\n",
    "def load_jsonl(path):\n",
    "    data = []\n",
    "    with open(path, \"r\", encoding=\"utf-8\") as f:\n",
    "        for line in f:\n",
    "            data.append(json.loads(line))\n",
    "    return data\n",
    "\n",
    "train_data = load_jsonl(train_path)\n",
    "val_data = load_jsonl(val_path)\n",
    "print(\"Train examples:\", len(train_data), \"Val examples:\", len(val_data))\n",
    "\n",
    "sp = spm.SentencePieceProcessor(model_file=str(base_dir / \"models\" / \"vocab\" / \"hi_en_unigram.model\"))\n",
    "pad_id = sp.pad_id(); bos_id = sp.bos_id(); eos_id = sp.eos_id()\n",
    "vocab_size = sp.vocab_size()\n",
    "print(\"Vocab size:\", vocab_size)\n"
   ]
  },
  {
   "cell_type": "code",
   "execution_count": 3,
   "id": "06760369",
   "metadata": {},
   "outputs": [
    {
     "name": "stdout",
     "output_type": "stream",
     "text": [
      "TrainConfig(d_model=384, num_heads=6, num_encoder_layers=6, num_decoder_layers=6, d_ff=1024, dropout=0.15, lr=0.0003, weight_decay=0.01, warmup_steps=2000, max_epochs=30, patience=4, label_smoothing=0.1, max_src_len=128, max_tgt_len=128, max_tokens_per_microbatch=2048, grad_accum_steps=8, clip_grad_norm=1.0, beam_size=4, length_penalty=0.6, seed=42)\n"
     ]
    }
   ],
   "source": [
    "\n",
    "# Build datasets\n",
    "train_src = [ex[\"src\"] for ex in train_data]\n",
    "train_tgt = [ex[\"tgt\"] for ex in train_data]\n",
    "val_src = [ex[\"src\"] for ex in val_data]\n",
    "val_tgt = [ex[\"tgt\"] for ex in val_data]\n",
    "\n",
    "train_ds = TokenBatchDataset(train_src, train_tgt)\n",
    "val_ds = TokenBatchDataset(val_src, val_tgt)\n",
    "\n",
    "cfg = TrainConfig(\n",
    "    d_model=384, num_heads=6, num_encoder_layers=6, num_decoder_layers=6, d_ff=1024,\n",
    "    dropout=0.15, lr=3e-4, weight_decay=0.01, warmup_steps=2000, max_epochs=30, patience=4,\n",
    "    label_smoothing=0.1, max_src_len=128, max_tgt_len=128,\n",
    "    max_tokens_per_microbatch=2048, grad_accum_steps=8, clip_grad_norm=1.0,\n",
    "    beam_size=4, length_penalty=0.6, seed=42\n",
    ")\n",
    "print(cfg)\n"
   ]
  },
  {
   "cell_type": "code",
   "execution_count": 4,
   "id": "d98380e8",
   "metadata": {},
   "outputs": [
    {
     "name": "stderr",
     "output_type": "stream",
     "text": [
      "C:\\Users\\ashwi\\AppData\\Local\\Temp\\ipykernel_82696\\3062743207.py:18: FutureWarning: `torch.cuda.amp.GradScaler(args...)` is deprecated. Please use `torch.amp.GradScaler('cuda', args...)` instead.\n",
      "  scaler = GradScaler(enabled=(device.type==\"cuda\"))\n"
     ]
    }
   ],
   "source": [
    "\n",
    "# Build model\n",
    "from torch.optim import AdamW\n",
    "from torch.cuda.amp import GradScaler\n",
    "\n",
    "model = Seq2SeqTransformer(\n",
    "    vocab_size=vocab_size,\n",
    "    d_model=cfg.d_model,\n",
    "    num_heads=cfg.num_heads,\n",
    "    num_encoder_layers=cfg.num_encoder_layers,\n",
    "    num_decoder_layers=cfg.num_decoder_layers,\n",
    "    d_ff=cfg.d_ff,\n",
    "    dropout=cfg.dropout,\n",
    "    pad_id=pad_id,\n",
    ").to(device)\n",
    "\n",
    "optimizer = AdamW(model.parameters(), lr=cfg.lr, weight_decay=cfg.weight_decay, fused=True if device.type == \"cuda\" else False)\n",
    "scheduler = WarmupInverseSqrtScheduler(optimizer, warmup_steps=cfg.warmup_steps)\n",
    "scaler = GradScaler(enabled=(device.type==\"cuda\"))\n"
   ]
  },
  {
   "cell_type": "code",
   "execution_count": 5,
   "id": "d78c4241",
   "metadata": {},
   "outputs": [
    {
     "name": "stdout",
     "output_type": "stream",
     "text": [
      "Train micro-batches: 30209 Val micro-batches: 13\n"
     ]
    }
   ],
   "source": [
    "\n",
    "# Build adaptive micro-batches to avoid OOMs\n",
    "train_batches, collate_fn = build_adaptive_dataloader(train_ds, pad_id, cfg, shuffle=True)\n",
    "val_batches, _ = build_adaptive_dataloader(val_ds, pad_id, cfg, shuffle=False)\n",
    "print(\"Train micro-batches:\", len(train_batches), \"Val micro-batches:\", len(val_batches))\n"
   ]
  },
  {
   "cell_type": "code",
   "execution_count": 9,
   "id": "26cc0b24",
   "metadata": {},
   "outputs": [
    {
     "name": "stdout",
     "output_type": "stream",
     "text": [
      "\n",
      "=== Epoch 1/30 ===\n"
     ]
    },
    {
     "name": "stderr",
     "output_type": "stream",
     "text": [
      "Train micro-batches:   0%|          | 0/30209 [00:00<?, ?it/s]"
     ]
    },
    {
     "name": "stderr",
     "output_type": "stream",
     "text": [
      "C:\\Users\\ashwi\\OneDrive\\Desktop\\HindiToEnglishMT\\utils\\training_utils.py:179: FutureWarning: `torch.cuda.amp.autocast(args...)` is deprecated. Please use `torch.amp.autocast('cuda', args...)` instead.\n",
      "  with autocast():\n",
      "Train micro-batches:   0%|          | 19/30209 [00:38<16:59:54,  2.03s/it]\n"
     ]
    },
    {
     "ename": "AcceleratorError",
     "evalue": "CUDA error: out of memory\nCUDA kernel errors might be asynchronously reported at some other API call, so the stacktrace below might be incorrect.\nFor debugging consider passing CUDA_LAUNCH_BLOCKING=1\nCompile with `TORCH_USE_CUDA_DSA` to enable device-side assertions.\n",
     "output_type": "error",
     "traceback": [
      "\u001b[1;31m---------------------------------------------------------------------------\u001b[0m",
      "\u001b[1;31mAcceleratorError\u001b[0m                          Traceback (most recent call last)",
      "File \u001b[1;32m~\\OneDrive\\Desktop\\HindiToEnglishMT\\utils\\training_utils.py:185\u001b[0m, in \u001b[0;36mtrain_one_epoch\u001b[1;34m(model, optimizer, scheduler, scaler, train_batches, collate_fn, device, pad_id, cfg)\u001b[0m\n\u001b[0;32m    183\u001b[0m     loss \u001b[38;5;241m=\u001b[39m loss_fn(logits, tgt_out_ids) \u001b[38;5;241m/\u001b[39m cfg\u001b[38;5;241m.\u001b[39mgrad_accum_steps\n\u001b[1;32m--> 185\u001b[0m \u001b[43mscaler\u001b[49m\u001b[38;5;241;43m.\u001b[39;49m\u001b[43mscale\u001b[49m\u001b[43m(\u001b[49m\u001b[43mloss\u001b[49m\u001b[43m)\u001b[49m\u001b[38;5;241;43m.\u001b[39;49m\u001b[43mbackward\u001b[49m\u001b[43m(\u001b[49m\u001b[43m)\u001b[49m\n\u001b[0;32m    186\u001b[0m accum \u001b[38;5;241m+\u001b[39m\u001b[38;5;241m=\u001b[39m \u001b[38;5;241m1\u001b[39m\n",
      "File \u001b[1;32mc:\\Users\\ashwi\\AppData\\Local\\Programs\\Python\\Python310\\lib\\site-packages\\torch\\_tensor.py:647\u001b[0m, in \u001b[0;36mTensor.backward\u001b[1;34m(self, gradient, retain_graph, create_graph, inputs)\u001b[0m\n\u001b[0;32m    638\u001b[0m     \u001b[38;5;28;01mreturn\u001b[39;00m handle_torch_function(\n\u001b[0;32m    639\u001b[0m         Tensor\u001b[38;5;241m.\u001b[39mbackward,\n\u001b[0;32m    640\u001b[0m         (\u001b[38;5;28mself\u001b[39m,),\n\u001b[1;32m   (...)\u001b[0m\n\u001b[0;32m    645\u001b[0m         inputs\u001b[38;5;241m=\u001b[39minputs,\n\u001b[0;32m    646\u001b[0m     )\n\u001b[1;32m--> 647\u001b[0m \u001b[43mtorch\u001b[49m\u001b[38;5;241;43m.\u001b[39;49m\u001b[43mautograd\u001b[49m\u001b[38;5;241;43m.\u001b[39;49m\u001b[43mbackward\u001b[49m\u001b[43m(\u001b[49m\n\u001b[0;32m    648\u001b[0m \u001b[43m    \u001b[49m\u001b[38;5;28;43mself\u001b[39;49m\u001b[43m,\u001b[49m\u001b[43m \u001b[49m\u001b[43mgradient\u001b[49m\u001b[43m,\u001b[49m\u001b[43m \u001b[49m\u001b[43mretain_graph\u001b[49m\u001b[43m,\u001b[49m\u001b[43m \u001b[49m\u001b[43mcreate_graph\u001b[49m\u001b[43m,\u001b[49m\u001b[43m \u001b[49m\u001b[43minputs\u001b[49m\u001b[38;5;241;43m=\u001b[39;49m\u001b[43minputs\u001b[49m\n\u001b[0;32m    649\u001b[0m \u001b[43m\u001b[49m\u001b[43m)\u001b[49m\n",
      "File \u001b[1;32mc:\\Users\\ashwi\\AppData\\Local\\Programs\\Python\\Python310\\lib\\site-packages\\torch\\autograd\\__init__.py:354\u001b[0m, in \u001b[0;36mbackward\u001b[1;34m(tensors, grad_tensors, retain_graph, create_graph, grad_variables, inputs)\u001b[0m\n\u001b[0;32m    351\u001b[0m \u001b[38;5;66;03m# The reason we repeat the same comment below is that\u001b[39;00m\n\u001b[0;32m    352\u001b[0m \u001b[38;5;66;03m# some Python versions print out the first line of a multi-line function\u001b[39;00m\n\u001b[0;32m    353\u001b[0m \u001b[38;5;66;03m# calls in the traceback and some print out the last line\u001b[39;00m\n\u001b[1;32m--> 354\u001b[0m \u001b[43m_engine_run_backward\u001b[49m\u001b[43m(\u001b[49m\n\u001b[0;32m    355\u001b[0m \u001b[43m    \u001b[49m\u001b[43mtensors\u001b[49m\u001b[43m,\u001b[49m\n\u001b[0;32m    356\u001b[0m \u001b[43m    \u001b[49m\u001b[43mgrad_tensors_\u001b[49m\u001b[43m,\u001b[49m\n\u001b[0;32m    357\u001b[0m \u001b[43m    \u001b[49m\u001b[43mretain_graph\u001b[49m\u001b[43m,\u001b[49m\n\u001b[0;32m    358\u001b[0m \u001b[43m    \u001b[49m\u001b[43mcreate_graph\u001b[49m\u001b[43m,\u001b[49m\n\u001b[0;32m    359\u001b[0m \u001b[43m    \u001b[49m\u001b[43minputs_tuple\u001b[49m\u001b[43m,\u001b[49m\n\u001b[0;32m    360\u001b[0m \u001b[43m    \u001b[49m\u001b[43mallow_unreachable\u001b[49m\u001b[38;5;241;43m=\u001b[39;49m\u001b[38;5;28;43;01mTrue\u001b[39;49;00m\u001b[43m,\u001b[49m\n\u001b[0;32m    361\u001b[0m \u001b[43m    \u001b[49m\u001b[43maccumulate_grad\u001b[49m\u001b[38;5;241;43m=\u001b[39;49m\u001b[38;5;28;43;01mTrue\u001b[39;49;00m\u001b[43m,\u001b[49m\n\u001b[0;32m    362\u001b[0m \u001b[43m\u001b[49m\u001b[43m)\u001b[49m\n",
      "File \u001b[1;32mc:\\Users\\ashwi\\AppData\\Local\\Programs\\Python\\Python310\\lib\\site-packages\\torch\\autograd\\graph.py:829\u001b[0m, in \u001b[0;36m_engine_run_backward\u001b[1;34m(t_outputs, *args, **kwargs)\u001b[0m\n\u001b[0;32m    828\u001b[0m \u001b[38;5;28;01mtry\u001b[39;00m:\n\u001b[1;32m--> 829\u001b[0m     \u001b[38;5;28;01mreturn\u001b[39;00m Variable\u001b[38;5;241m.\u001b[39m_execution_engine\u001b[38;5;241m.\u001b[39mrun_backward(  \u001b[38;5;66;03m# Calls into the C++ engine to run the backward pass\u001b[39;00m\n\u001b[0;32m    830\u001b[0m         t_outputs, \u001b[38;5;241m*\u001b[39margs, \u001b[38;5;241m*\u001b[39m\u001b[38;5;241m*\u001b[39mkwargs\n\u001b[0;32m    831\u001b[0m     )  \u001b[38;5;66;03m# Calls into the C++ engine to run the backward pass\u001b[39;00m\n\u001b[0;32m    832\u001b[0m \u001b[38;5;28;01mfinally\u001b[39;00m:\n",
      "\u001b[1;31mAcceleratorError\u001b[0m: CUDA error: out of memory\nCUDA kernel errors might be asynchronously reported at some other API call, so the stacktrace below might be incorrect.\nFor debugging consider passing CUDA_LAUNCH_BLOCKING=1\nCompile with `TORCH_USE_CUDA_DSA` to enable device-side assertions.\n",
      "\nDuring handling of the above exception, another exception occurred:\n",
      "\u001b[1;31mAcceleratorError\u001b[0m                          Traceback (most recent call last)",
      "Cell \u001b[1;32mIn[9], line 14\u001b[0m\n\u001b[0;32m     12\u001b[0m \u001b[38;5;28;01mfor\u001b[39;00m epoch \u001b[38;5;129;01min\u001b[39;00m \u001b[38;5;28mrange\u001b[39m(\u001b[38;5;241m1\u001b[39m, cfg\u001b[38;5;241m.\u001b[39mmax_epochs \u001b[38;5;241m+\u001b[39m \u001b[38;5;241m1\u001b[39m):\n\u001b[0;32m     13\u001b[0m     \u001b[38;5;28mprint\u001b[39m(\u001b[38;5;124mf\u001b[39m\u001b[38;5;124m\"\u001b[39m\u001b[38;5;130;01m\\n\u001b[39;00m\u001b[38;5;124m=== Epoch \u001b[39m\u001b[38;5;132;01m{\u001b[39;00mepoch\u001b[38;5;132;01m}\u001b[39;00m\u001b[38;5;124m/\u001b[39m\u001b[38;5;132;01m{\u001b[39;00mcfg\u001b[38;5;241m.\u001b[39mmax_epochs\u001b[38;5;132;01m}\u001b[39;00m\u001b[38;5;124m ===\u001b[39m\u001b[38;5;124m\"\u001b[39m)\n\u001b[1;32m---> 14\u001b[0m     train_loss \u001b[38;5;241m=\u001b[39m \u001b[43mtrain_one_epoch\u001b[49m\u001b[43m(\u001b[49m\u001b[43mmodel\u001b[49m\u001b[43m,\u001b[49m\u001b[43m \u001b[49m\u001b[43moptimizer\u001b[49m\u001b[43m,\u001b[49m\u001b[43m \u001b[49m\u001b[43mscheduler\u001b[49m\u001b[43m,\u001b[49m\u001b[43m \u001b[49m\u001b[43mscaler\u001b[49m\u001b[43m,\u001b[49m\u001b[43m \u001b[49m\u001b[43mtrain_batches\u001b[49m\u001b[43m,\u001b[49m\u001b[43m \u001b[49m\u001b[43mcollate_fn\u001b[49m\u001b[43m,\u001b[49m\u001b[43m \u001b[49m\u001b[43mdevice\u001b[49m\u001b[43m,\u001b[49m\u001b[43m \u001b[49m\u001b[43mpad_id\u001b[49m\u001b[43m,\u001b[49m\u001b[43m \u001b[49m\u001b[43mcfg\u001b[49m\u001b[43m)\u001b[49m\n\u001b[0;32m     15\u001b[0m     \u001b[38;5;28mprint\u001b[39m(\u001b[38;5;124mf\u001b[39m\u001b[38;5;124m\"\u001b[39m\u001b[38;5;124mTrain loss: \u001b[39m\u001b[38;5;132;01m{\u001b[39;00mtrain_loss\u001b[38;5;132;01m:\u001b[39;00m\u001b[38;5;124m.4f\u001b[39m\u001b[38;5;132;01m}\u001b[39;00m\u001b[38;5;124m\"\u001b[39m)\n\u001b[0;32m     17\u001b[0m     \u001b[38;5;66;03m# Validation BLEU\u001b[39;00m\n",
      "File \u001b[1;32m~\\OneDrive\\Desktop\\HindiToEnglishMT\\utils\\training_utils.py:201\u001b[0m, in \u001b[0;36mtrain_one_epoch\u001b[1;34m(model, optimizer, scheduler, scaler, train_batches, collate_fn, device, pad_id, cfg)\u001b[0m\n\u001b[0;32m    199\u001b[0m \u001b[38;5;28;01mexcept\u001b[39;00m \u001b[38;5;167;01mRuntimeError\u001b[39;00m \u001b[38;5;28;01mas\u001b[39;00m e:\n\u001b[0;32m    200\u001b[0m     \u001b[38;5;28;01mif\u001b[39;00m \u001b[38;5;124m\"\u001b[39m\u001b[38;5;124mout of memory\u001b[39m\u001b[38;5;124m\"\u001b[39m \u001b[38;5;129;01min\u001b[39;00m \u001b[38;5;28mstr\u001b[39m(e)\u001b[38;5;241m.\u001b[39mlower():\n\u001b[1;32m--> 201\u001b[0m         \u001b[43mtorch\u001b[49m\u001b[38;5;241;43m.\u001b[39;49m\u001b[43mcuda\u001b[49m\u001b[38;5;241;43m.\u001b[39;49m\u001b[43mempty_cache\u001b[49m\u001b[43m(\u001b[49m\u001b[43m)\u001b[49m\n\u001b[0;32m    202\u001b[0m         \u001b[38;5;66;03m# Split the current microbatch in half and retry\u001b[39;00m\n\u001b[0;32m    203\u001b[0m         \u001b[38;5;28;01mif\u001b[39;00m \u001b[38;5;28mlen\u001b[39m(cur) \u001b[38;5;241m>\u001b[39m\u001b[38;5;241m=\u001b[39m \u001b[38;5;241m2\u001b[39m:\n",
      "File \u001b[1;32mc:\\Users\\ashwi\\AppData\\Local\\Programs\\Python\\Python310\\lib\\site-packages\\torch\\cuda\\memory.py:224\u001b[0m, in \u001b[0;36mempty_cache\u001b[1;34m()\u001b[0m\n\u001b[0;32m    213\u001b[0m \u001b[38;5;250m\u001b[39m\u001b[38;5;124mr\u001b[39m\u001b[38;5;124;03m\"\"\"Release all unoccupied cached memory currently held by the caching\u001b[39;00m\n\u001b[0;32m    214\u001b[0m \u001b[38;5;124;03mallocator so that those can be used in other GPU application and visible in\u001b[39;00m\n\u001b[0;32m    215\u001b[0m \u001b[38;5;124;03m`nvidia-smi`.\u001b[39;00m\n\u001b[1;32m   (...)\u001b[0m\n\u001b[0;32m    221\u001b[0m \u001b[38;5;124;03m    more details about GPU memory management.\u001b[39;00m\n\u001b[0;32m    222\u001b[0m \u001b[38;5;124;03m\"\"\"\u001b[39;00m\n\u001b[0;32m    223\u001b[0m \u001b[38;5;28;01mif\u001b[39;00m is_initialized():\n\u001b[1;32m--> 224\u001b[0m     \u001b[43mtorch\u001b[49m\u001b[38;5;241;43m.\u001b[39;49m\u001b[43m_C\u001b[49m\u001b[38;5;241;43m.\u001b[39;49m\u001b[43m_cuda_emptyCache\u001b[49m\u001b[43m(\u001b[49m\u001b[43m)\u001b[49m\n",
      "\u001b[1;31mAcceleratorError\u001b[0m: CUDA error: out of memory\nCUDA kernel errors might be asynchronously reported at some other API call, so the stacktrace below might be incorrect.\nFor debugging consider passing CUDA_LAUNCH_BLOCKING=1\nCompile with `TORCH_USE_CUDA_DSA` to enable device-side assertions.\n"
     ]
    }
   ],
   "source": [
    "\n",
    "# Training loop with early stopping based on validation BLEU (greedy for speed during val)\n",
    "from utils.training_utils import evaluate_bleu\n",
    "import copy\n",
    "\n",
    "best_bleu = -1.0\n",
    "best_state = None\n",
    "epochs_no_improve = 0\n",
    "\n",
    "save_dir = base_dir / \"models\" / \"from_scratch\"\n",
    "save_dir.mkdir(parents=True, exist_ok=True)\n",
    "\n",
    "for epoch in range(1, cfg.max_epochs + 1):\n",
    "    print(f\"\\n=== Epoch {epoch}/{cfg.max_epochs} ===\")\n",
    "    train_loss = train_one_epoch(model, optimizer, scheduler, scaler, train_batches, collate_fn, device, pad_id, cfg)\n",
    "    print(f\"Train loss: {train_loss:.4f}\")\n",
    "\n",
    "    # Validation BLEU\n",
    "    bleu = evaluate_bleu(model, val_batches, collate_fn, device, pad_id, sp, bos_id, eos_id, cfg)\n",
    "    print(f\"Validation BLEU: {bleu:.2f}\")\n",
    "\n",
    "    if bleu > best_bleu:\n",
    "        best_bleu = bleu\n",
    "        best_state = copy.deepcopy(model.state_dict())\n",
    "        torch.save(best_state, save_dir / \"best_model.pt\")\n",
    "        torch.save({\"cfg\": cfg.__dict__, \"vocab_path\": str(base_dir / \"models\" / \"vocab\" / \"hi_en_unigram.model\")},\n",
    "                   save_dir / \"training_meta.pt\")\n",
    "        epochs_no_improve = 0\n",
    "        print(\"Saved new best model.\")\n",
    "    else:\n",
    "        epochs_no_improve += 1\n",
    "        print(f\"No improvement for {epochs_no_improve} epoch(s).\")\n",
    "\n",
    "    if epochs_no_improve >= cfg.patience:\n",
    "        print(\"Early stopping.\")\n",
    "        break\n",
    "\n",
    "print(\"Best val BLEU:\", best_bleu)\n"
   ]
  },
  {
   "cell_type": "code",
   "execution_count": 8,
   "id": "6f8d2800",
   "metadata": {},
   "outputs": [],
   "source": [
    "import sys, os\n",
    "\n",
    "# Add project root (where utils/ lives) to Python path\n",
    "project_root = os.path.abspath(os.path.join(os.getcwd(), \"..\"))\n",
    "if project_root not in sys.path:\n",
    "    sys.path.append(project_root)\n",
    "\n",
    "# Now you can import\n",
    "from utils.training_utils import evaluate_bleu\n"
   ]
  },
  {
   "cell_type": "code",
   "execution_count": null,
   "id": "2c7755a6",
   "metadata": {},
   "outputs": [],
   "source": [
    "import torch\n",
    "\n",
    "def gpu_mem_report():\n",
    "    allocated = round(torch.cuda.memory_allocated(0)/1024**2, 1)\n",
    "    reserved = round(torch.cuda.memory_reserved(0)/1024**2, 1)\n",
    "    print(f\"GPU memory allocated: {allocated} MB | reserved: {reserved} MB\")\n"
   ]
  }
 ],
 "metadata": {
  "kernelspec": {
   "display_name": "Python 3",
   "language": "python",
   "name": "python3"
  },
  "language_info": {
   "codemirror_mode": {
    "name": "ipython",
    "version": 3
   },
   "file_extension": ".py",
   "mimetype": "text/x-python",
   "name": "python",
   "nbconvert_exporter": "python",
   "pygments_lexer": "ipython3",
   "version": "3.10.0"
  }
 },
 "nbformat": 4,
 "nbformat_minor": 5
}
